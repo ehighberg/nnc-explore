{
 "cells": [
  {
   "cell_type": "code",
   "execution_count": 1,
   "metadata": {},
   "outputs": [],
   "source": [
    "import numpy as np\n",
    "from matplotlib import pyplot as plt\n",
    "\n",
    "%matplotlib inline"
   ]
  },
  {
   "cell_type": "code",
   "execution_count": 2,
   "metadata": {},
   "outputs": [],
   "source": [
    "def f(x):\n",
    "    '''The function we are approximating'''\n",
    "    return 1 / x\n",
    "\n",
    "\n",
    "def f_taylor(x, a, N=3):\n",
    "    '''The Taylor approximation of f about a at x, with N degrees of approxiation'''\n",
    "    return np.sum([ ((-1) ** n) *\n",
    "                   (a ** -(n + 1))\n",
    "                   * ((x - a) ** n)\n",
    "                   / (np.math.factorial(n))\n",
    "                   for n in range(N)])\n",
    "\n",
    "\n",
    "def f_mult_taylor(x, a, N=3):\n",
    "    '''The multiplicative Taylor approximation of f about a at x, with at most 2 degrees of approimation'''\n",
    "    term_1 = (1 / a)\n",
    "    # print(term_1)\n",
    "    term_2 = (np.e ** (-1 / a)) ** (x - a)\n",
    "    # print(term_2)\n",
    "    term_3 = (np.e ** (1 / a ** 2)) ** (((x - a) ** 2) / 2)\n",
    "    # print(term_3)\n",
    "    all_terms = [term_1, term_2, term_3]\n",
    "    return np.product(all_terms[:min(N, 3)])"
   ]
  },
  {
   "cell_type": "code",
   "execution_count": 6,
   "metadata": {},
   "outputs": [
    {
     "name": "stdout",
     "output_type": "stream",
     "text": [
      "Standard Taylor approximation error:  0.04166666666666663\n",
      "Multiplicative Taylor approximation error: 0.020622612124305606\n"
     ]
    }
   ],
   "source": [
    "a = 1\n",
    "x = 1.5\n",
    "N = 3\n",
    "\n",
    "taylor_approx = f_taylor(x, a, N)\n",
    "print('Standard Taylor approximation error: ', abs(f(x) - taylor_approx))\n",
    "\n",
    "mult_approx = f_mult_taylor(x, a, N)\n",
    "print('Multiplicative Taylor approximation error:', abs(f(x) - mult_approx))"
   ]
  },
  {
   "cell_type": "code",
   "execution_count": 7,
   "metadata": {},
   "outputs": [
    {
     "data": {
      "image/png": "[encoded data removed]",
      "text/plain": [
       "<Figure size 432x288 with 1 Axes>"
      ]
     },
     "metadata": {
      "needs_background": "light"
     },
     "output_type": "display_data"
    }
   ],
   "source": [
    "x_vals = [i / 100 for i in range(1, 1000)]\n",
    "plt.plot(x_vals, [f(i) for i in x_vals], 'g')\n",
    "plt.plot(x_vals, [f_taylor(i, a, N) for i in x_vals], 'r')\n",
    "plt.plot(x_vals, [f_mult_taylor(i, a, N) for i in x_vals], 'b--')\n",
    "plt.xlim(0, 3)\n",
    "plt.ylim(0, 3);"
   ]
  },
  {
   "cell_type": "code",
   "execution_count": 5,
   "metadata": {},
   "outputs": [
    {
     "name": "stdout",
     "output_type": "stream",
     "text": [
      "5.97 µs ± 79.5 ns per loop (mean ± std. dev. of 7 runs, 100000 loops each)\n",
      "5.14 µs ± 71.2 ns per loop (mean ± std. dev. of 7 runs, 100000 loops each)\n"
     ]
    }
   ],
   "source": [
    "%timeit f_taylor(x, a, N)\n",
    "%timeit f_mult_taylor(x, a, N)"
   ]
  },
  {
   "cell_type": "code",
   "execution_count": null,
   "metadata": {},
   "outputs": [],
   "source": []
  }
 ],
 "metadata": {
  "kernelspec": {
   "display_name": "Python 3",
   "language": "python",
   "name": "python3"
  },
  "language_info": {
   "codemirror_mode": {
    "name": "ipython",
    "version": 3
   },
   "file_extension": ".py",
   "mimetype": "text/x-python",
   "name": "python",
   "nbconvert_exporter": "python",
   "pygments_lexer": "ipython3",
   "version": "3.7.2"
  }
 },
 "nbformat": 4,
 "nbformat_minor": 2
}
