{
 "cells": [
  {
   "cell_type": "markdown",
   "metadata": {},
   "source": [
    "## Multiplicate Euler's Method\n",
    "\n",
    "Prototype implementation of a multiplicative version of Euler's Method."
   ]
  },
  {
   "cell_type": "code",
   "execution_count": 1,
   "metadata": {},
   "outputs": [],
   "source": [
    "import numpy as np\n",
    "from matplotlib import pyplot as plt\n",
    "\n",
    "%matplotlib inline"
   ]
  },
  {
   "cell_type": "code",
   "execution_count": 2,
   "metadata": {},
   "outputs": [],
   "source": [
    "def differential_linear(params):\n",
    "    \"\"\"\n",
    "    The representation of the linear differential equation dy/dt = ky.\n",
    "    Expects params as tuple (k, y).\n",
    "    \"\"\"\n",
    "    \n",
    "    k, y = params\n",
    "    return k * y\n",
    "\n",
    "def exact_diff_linear(k, y_0, t):\n",
    "    \"\"\"The exact value of a linear diff eq at t, for ratio k and initial value y_0\"\"\"\n",
    "    \n",
    "    return y_0 * np.e ** (k * t)"
   ]
  },
  {
   "cell_type": "code",
   "execution_count": 3,
   "metadata": {},
   "outputs": [],
   "source": [
    "def classical_euler_method(diff_eq, params, y_0, t_f, t_0=0, N=1, plot=False):\n",
    "    \"\"\"\n",
    "    Implementation of classical Euler's Method.\n",
    "    ----------------------------------------\n",
    "    Inputs - diff_eq: function call for the differential equation, including arguments\n",
    "             params:  the parameters to be passed on to the diff eq, as a tuple\n",
    "             y_0:     the y value at t_0\n",
    "             t_f:     the endpoint in the approximation (the input at the value we are approximating)\n",
    "             t_0:     the starting point of the approximation (default = 0)\n",
    "             N:       the total number of intermediate points, including endpoint (default = 1)\n",
    "             plot:    flag to plot the points on a graph\n",
    "    ----------------------------------------\n",
    "    Outputs - t_vals: the t values at each interpolated point (including start and end)\n",
    "              y_vals: the approximated y values at interpolated point (including start and end)\n",
    "    ----------------------------------------\n",
    "    Other - delta_t:  the t distance of each iteration\n",
    "            diff_val: function that return the differential's value at t\n",
    "    \"\"\"\n",
    "    def diff_val(*args, **kwargs):\n",
    "        return diff_eq(*args, **kwargs)\n",
    "    \n",
    "    \n",
    "    t_vals, delta_t = np.linspace(t_0, t_f, N, retstep=True)\n",
    "    \n",
    "    y_vals = [y_0]\n",
    "    for t in t_vals[1:]:\n",
    "        y_vals.append(y_vals[-1] + delta_t * diff_val((params, y_vals[-1])))\n",
    "    \n",
    "    \n",
    "    if plot:\n",
    "        plt.plot(t_vals, y_vals)\n",
    "        plt.scatter(t_vals, y_vals);\n",
    "    \n",
    "    return t_vals, y_vals"
   ]
  },
  {
   "cell_type": "code",
   "execution_count": 6,
   "metadata": {},
   "outputs": [],
   "source": [
    "def mult_euler_method(diff_eq, params, y_0, t_f, t_0=0, N=1, plot=False):\n",
    "    \"\"\"\n",
    "    Implementation of multiplicative Euler's Method.\n",
    "    ----------------------------------------\n",
    "    Inputs - diff_eq: function call for the differential equation, including arguments\n",
    "             params:  the parameters to be passed on to the diff eq, as a tuple\n",
    "             y_0:     the y value at t_0\n",
    "             t_f:     the endpoint in the approximation (the input at the value we are approximating)\n",
    "             t_0:     the starting point of the approximation (default = 0)\n",
    "             N:       the total number of intermediate points, including endpoint (default = 1)\n",
    "             plot:    flag to plot the points on a graph\n",
    "    ----------------------------------------\n",
    "    Outputs - t_vals: the t values at each interpolated point (including start and end)\n",
    "              y_vals: the approximated y values at interpolated point (including start and end)\n",
    "    ----------------------------------------\n",
    "    Other - delta_t:  the t distance of each iteration\n",
    "            diff_val: function that return the differential's value at t\n",
    "    \"\"\"\n",
    "    def diff_val(*args, **kwargs):\n",
    "        return diff_eq(*args, **kwargs)\n",
    "    \n",
    "    \n",
    "    t_vals, delta_t = np.linspace(t_0, t_f, N, retstep=True)\n",
    "    \n",
    "    y_vals = [y_0]\n",
    "    for t in t_vals[1:]:\n",
    "        y_vals.append( y_vals[-1] * np.e ** (delta_t * diff_val((params, y_vals[-1])) / y_vals[-1]) )\n",
    "    \n",
    "    \n",
    "    if plot:\n",
    "        plt.plot(t_vals, y_vals)\n",
    "        plt.scatter(t_vals, y_vals);\n",
    "    \n",
    "    return t_vals, y_vals"
   ]
  },
  {
   "cell_type": "code",
   "execution_count": 4,
   "metadata": {},
   "outputs": [],
   "source": [
    "linear_params = {'diff_eq': differential_linear,\n",
    "                'params': (-0.2),\n",
    "                'y_0': 5,\n",
    "                't_f': 2,\n",
    "                't_0': 0,\n",
    "                'N': 3,\n",
    "                'plot': True}"
   ]
  },
  {
   "cell_type": "code",
   "execution_count": 5,
   "metadata": {},
   "outputs": [
    {
     "name": "stdout",
     "output_type": "stream",
     "text": [
      "Approximation error is 0.04523219350958704 of exact value\n"
     ]
    },
    {
     "data": {
      "image/png": "[encoded data removed]",
      "text/plain": [
       "<Figure size 432x288 with 1 Axes>"
      ]
     },
     "metadata": {
      "needs_background": "light"
     },
     "output_type": "display_data"
    }
   ],
   "source": [
    "t_vals, y_vals = classical_euler_method(linear_params['diff_eq'],\n",
    "                      linear_params['params'],\n",
    "                      linear_params['y_0'],\n",
    "                      linear_params['t_f'],\n",
    "                      linear_params['t_0'],\n",
    "                      linear_params['N'],\n",
    "                      linear_params['plot'])\n",
    "\n",
    "many_t_vals = np.linspace(linear_params['t_0'], linear_params['t_f'], 100)\n",
    "exact_vals = [exact_diff_linear(linear_params['params'],\n",
    "                               linear_params['y_0'],\n",
    "                               t)\n",
    "             for t in many_t_vals]\n",
    "\n",
    "plt.plot(many_t_vals, exact_vals);\n",
    "\n",
    "approx_ratio = abs( (y_vals[-1] - exact_vals[-1]) / exact_vals[-1] )\n",
    "print('Approximation error is', approx_ratio, 'of exact value')"
   ]
  },
  {
   "cell_type": "code",
   "execution_count": 7,
   "metadata": {},
   "outputs": [
    {
     "name": "stdout",
     "output_type": "stream",
     "text": [
      "Approximation error is 1.3250065024206405e-16 of exact value\n"
     ]
    },
    {
     "data": {
      "image/png": "[encoded data removed]",
      "text/plain": [
       "<Figure size 432x288 with 1 Axes>"
      ]
     },
     "metadata": {
      "needs_background": "light"
     },
     "output_type": "display_data"
    }
   ],
   "source": [
    "t_vals, y_vals = mult_euler_method(linear_params['diff_eq'],\n",
    "                      linear_params['params'],\n",
    "                      linear_params['y_0'],\n",
    "                      linear_params['t_f'],\n",
    "                      linear_params['t_0'],\n",
    "                      linear_params['N'],\n",
    "                      linear_params['plot'])\n",
    "\n",
    "many_t_vals = np.linspace(linear_params['t_0'], linear_params['t_f'], 100)\n",
    "exact_vals = [exact_diff_linear(linear_params['params'],\n",
    "                               linear_params['y_0'],\n",
    "                               t)\n",
    "             for t in many_t_vals]\n",
    "\n",
    "plt.plot(many_t_vals, exact_vals);\n",
    "\n",
    "approx_ratio = abs( (y_vals[-1] - exact_vals[-1]) / exact_vals[-1] )\n",
    "print('Approximation error is', approx_ratio, 'of exact value')"
   ]
  },
  {
   "cell_type": "code",
   "execution_count": null,
   "metadata": {},
   "outputs": [],
   "source": []
  }
 ],
 "metadata": {
  "kernelspec": {
   "display_name": "Python 3",
   "language": "python",
   "name": "python3"
  },
  "language_info": {
   "codemirror_mode": {
    "name": "ipython",
    "version": 3
   },
   "file_extension": ".py",
   "mimetype": "text/x-python",
   "name": "python",
   "nbconvert_exporter": "python",
   "pygments_lexer": "ipython3",
   "version": "3.7.2"
  }
 },
 "nbformat": 4,
 "nbformat_minor": 2
}
